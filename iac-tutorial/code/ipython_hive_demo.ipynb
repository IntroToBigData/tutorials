{
 "cells": [
  {
   "cell_type": "markdown",
   "metadata": {},
   "source": [
    "### Hive usage through iPython notebook"
   ]
  },
  {
   "cell_type": "code",
   "execution_count": 5,
   "metadata": {
    "collapsed": false
   },
   "outputs": [],
   "source": [
    "import pandas as pd\n",
    "import matplotlib.pylab as pl \n",
    "import re\n",
    "%matplotlib inline\n",
    "\n",
    "# Compose Hive query string\n",
    "qry_str = \"hive -S -e 'set hive.cli.print.header=true; \\\n",
    "select * from survey.survey_responses limit 100000' \"\n",
    "\n",
    "# Embed the query in SSH, make sure to ignore stderr\n",
    "ssh_qry = ''' ssh iac-prod \"%s\" 2>/dev/null | awk -F\"\\t\" 'NF==119 {print}' ''' % (qry_str)\n",
    "\n",
    "# Execute the query in Command line\n",
    "results = !$ssh_qry\n",
    "\n",
    "# Create table (list of lists) by splitting on TAB\n",
    "table = [row.split(\"\\t\") for row in results]\n",
    "\n",
    "# Create data frame\n",
    "df = pd.DataFrame(table[1:], columns=table[0])"
   ]
  },
  {
   "cell_type": "code",
   "execution_count": 6,
   "metadata": {
    "collapsed": false
   },
   "outputs": [
    {
     "data": {
      "image/png": "[encoded data removed]",
      "text/plain": [
       "<matplotlib.figure.Figure at 0x105df7fd0>"
      ]
     },
     "metadata": {},
     "output_type": "display_data"
    }
   ],
   "source": [
    "# Plot histogram for answer_0\n",
    "df[\"answer_0\"].apply(lambda x: int(x) if re.match(\"^[0-9]+$\", x) else 0).plot(kind=\"hist\", normed=True, bins=10)\n",
    "pl.show()"
   ]
  },
  {
   "cell_type": "code",
   "execution_count": null,
   "metadata": {
    "collapsed": true
   },
   "outputs": [],
   "source": []
  }
 ],
 "metadata": {
  "kernelspec": {
   "display_name": "Python 2",
   "language": "python",
   "name": "python2"
  },
  "language_info": {
   "codemirror_mode": {
    "name": "ipython",
    "version": 2
   },
   "file_extension": ".py",
   "mimetype": "text/x-python",
   "name": "python",
   "nbconvert_exporter": "python",
   "pygments_lexer": "ipython2",
   "version": "2.7.10"
  }
 },
 "nbformat": 4,
 "nbformat_minor": 0
}
